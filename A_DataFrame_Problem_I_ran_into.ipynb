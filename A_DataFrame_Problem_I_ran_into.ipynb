{
 "cells": [
  {
   "cell_type": "markdown",
   "metadata": {},
   "source": [
    "So, I'm doing this project of extracting date data from a text file with very messy format. The date formate is very messey, and I suppose to use regex and use some data cleaning to deal with it. \n",
    "Here is a list of some of the variants in this dataset:\n",
    "04/20/2009; 04/20/09; 4/20/09; 4/3/09\n",
    "Mar-20-2009; Mar 20, 2009; March 20, 2009; Mar. 20, 2009; Mar 20 2009;\n",
    "20 Mar 2009; 20 March 2009; 20 Mar. 2009; 20 March, 2009\n",
    "Mar 20th, 2009; Mar 21st, 2009; Mar 22nd, 2009\n",
    "Feb 2009; Sep 2009; Oct 2010\n",
    "6/2008; 12/2009\n",
    "2009; 2010"
   ]
  },
  {
   "cell_type": "code",
   "execution_count": 12,
   "metadata": {
    "collapsed": false
   },
   "outputs": [
    {
     "data": {
      "text/plain": [
       "0           03/25/93 Total time of visit (in minutes):\\n\n",
       "1                         6/18/85 Primary Care Doctor:\\n\n",
       "2      sshe plans to move as of 7/8/71 In-Home Servic...\n",
       "3                  7 on 9/27/75 Audit C Score Current:\\n\n",
       "4      2/6/96 sleep studyPain Treatment Pain Level (N...\n",
       "5                      .Per 7/06/79 Movement D/O note:\\n\n",
       "6      4, 5/18/78 Patient's thoughts about current su...\n",
       "7      10/24/89 CPT Code: 90801 - Psychiatric Diagnos...\n",
       "8                           3/7/86 SOS-10 Total Score:\\n\n",
       "9               (4/10/71)Score-1Audit C Score Current:\\n\n",
       "10     (5/11/85) Crt-1.96, BUN-26; AST/ALT-16/22; WBC...\n",
       "11                         4/09/75 SOS-10 Total Score:\\n\n",
       "12     8/01/98 Communication with referring physician...\n",
       "13     1/26/72 Communication with referring physician...\n",
       "14     5/24/1990 CPT Code: 90792: With medical servic...\n",
       "15     1/25/2011 CPT Code: 90792: With medical servic...\n",
       "16           4/12/82 Total time of visit (in minutes):\\n\n",
       "17          1; 10/13/1976 Audit C Score, Highest/Date:\\n\n",
       "18                   4, 4/24/98 Relevant Drug History:\\n\n",
       "19     ) 59 yo unemployed w referred by Urgent Care f...\n",
       "20           7/21/98 Total time of visit (in minutes):\\n\n",
       "21                        10/21/79 SOS-10 Total Score:\\n\n",
       "22      3/03/90 CPT Code: 90792: With medical services\\n\n",
       "23      2/11/76 CPT Code: 90792: With medical services\\n\n",
       "24     07/25/1984 CPT Code: 90791: No medical services\\n\n",
       "25     4-13-82 Other Child Mental Health Outcomes Sca...\n",
       "26      9/22/89 CPT Code: 90792: With medical services\\n\n",
       "27        9/02/76 CPT Code: 90791: No medical services\\n\n",
       "28                                9/12/71 [report_end]\\n\n",
       "29     10/24/86 Communication with referring physicia...\n",
       "                             ...                        \n",
       "470    y1983 Clinic Hospital, first hospitalization, ...\n",
       "471    tProblems Urinary incontinence : mild urge inc...\n",
       "472    .2010 - wife; nightmares and angry outbursts; ...\n",
       "473         shx of TBI (1975) ISO MVA.Medical History:\\n\n",
       "474    sPatient reported losing three friends that pa...\n",
       "475                        TSH okay in 2015 Prior EKG:\\n\n",
       "476    1989 Family Psych History: Family History of S...\n",
       "477    oEnjoys animals, had a dog x 14 yrs who died i...\n",
       "478    eHistory of small right parietal subgaleal hem...\n",
       "479    sIn KEP Psychiatryfor therapy and medications ...\n",
       "480    1. Esophageal cancer, dx: 2013, on FOLFOX with...\n",
       "481                                        y1974 (all)\\n\n",
       "482    h/o restraining order by sister/mother in 1990...\n",
       "483    sTexas Medical Center; Oklahoma for 2 weeks; 1...\n",
       "484    Death of former partner in 2004 by overdose as...\n",
       "485    Was \"average\" student.  \"I didn't have too man...\n",
       "486    Contemplating jumping off building - 1973 - di...\n",
       "487    appendectomy s/p delivery 1992 Prior relevant ...\n",
       "488    tProblems renal cell cancer : s/p nephrectomy ...\n",
       "489        ran own business for 35 years, sold in 1985\\n\n",
       "490                                  Lab: B12 969 2007\\n\n",
       "491                                   )and 8mo in 2009\\n\n",
       "492    .Moved to USA in 1986. Suffered from malnutrit...\n",
       "493                                              r1978\\n\n",
       "494    . Went to Emerson, in Newfane Alaska. Started ...\n",
       "495    1979 Family Psych History: Family History of S...\n",
       "496    therapist and friend died in ~2006 Parental/Ca...\n",
       "497                         2008 partial thyroidectomy\\n\n",
       "498    sPt describes a history of sexual abuse as a c...\n",
       "499    . In 1980, patient was living in Naples and de...\n",
       "dtype: object"
      ]
     },
     "execution_count": 12,
     "metadata": {},
     "output_type": "execute_result"
    }
   ],
   "source": [
    "import pandas as pd\n",
    "\n",
    "doc = []\n",
    "with open('dates.txt') as file:\n",
    "    for line in file:\n",
    "        doc.append(line)\n",
    "\n",
    "df = pd.Series(doc)\n",
    "df"
   ]
  },
  {
   "cell_type": "markdown",
   "metadata": {},
   "source": [
    "After loading the data I did some replacement to clean up a little"
   ]
  },
  {
   "cell_type": "code",
   "execution_count": 14,
   "metadata": {
    "collapsed": true
   },
   "outputs": [],
   "source": [
    "df = df.str.replace(r'[,.]', '')\n",
    "df = df.str.replace(r'[-]', '/')\n",
    "df = df.str.replace(r'(\\d \\d{2} \\d{2})', lambda x: x.groups()[0][0]+'/'+x.groups()[0][2:-3]+'/19'+x.groups()[0][-2:])\n",
    "df = df.str.replace(r'(\\d{,2}/\\d{,2}/\\d{2})', lambda x: x.groups()[0][:-2]+'19'+x.groups()[0][-2:])"
   ]
  },
  {
   "cell_type": "markdown",
   "metadata": {},
   "source": [
    "Then I extract out the relevent information based on the format"
   ]
  },
  {
   "cell_type": "code",
   "execution_count": 15,
   "metadata": {
    "collapsed": true
   },
   "outputs": [],
   "source": [
    "t1 = df.str.extractall(r'(?P<month>\\d{1,2})/*(?P<day>\\d{,2})/(?P<year>[12]\\d{3})').fillna(1)\n",
    "t1.reset_index(inplace =True)\n",
    "t1_index = t1['level_0']\n",
    "t2 = df.str.extractall(r'(?P<day>\\d{,2})? *(?P<month>(?:Jan|Feb|Mar|Apr|May|Jun|Jul|Aug|Sep|Oct|Nov|Dec)[a-z]*) (?P<year>\\d{4})').fillna(1)\n",
    "t2.reset_index(inplace =True)\n",
    "t2_index = t2['level_0']\n",
    "t3 = df.str.extractall(r'(?P<month>(?:Jan|Feb|Mar|Apr|May|Jun|Jul|Aug|Sep|Oct|Nov|Dec)[a-z]*)?[ ](?P<day>\\d{,2})?[ ](?P<year>\\d{4})').fillna(1)\n",
    "t3.reset_index(inplace =True)\n",
    "t3_index = t3['level_0']"
   ]
  },
  {
   "cell_type": "code",
   "execution_count": 16,
   "metadata": {
    "collapsed": true
   },
   "outputs": [],
   "source": [
    "df = df.drop(t1_index)\n",
    "df = df.drop(t2_index)\n",
    "df = df.drop(t3_index)"
   ]
  },
  {
   "cell_type": "code",
   "execution_count": 21,
   "metadata": {
    "collapsed": false
   },
   "outputs": [],
   "source": [
    "t4 = df.str.extractall(r'(?P<year>[12]\\d{3})(?P<month>)(?P<day>)').fillna(1)\n",
    "t4.reset_index(inplace = True)\n",
    "t4_index = t4['level_0']"
   ]
  },
  {
   "cell_type": "code",
   "execution_count": 22,
   "metadata": {
    "collapsed": false
   },
   "outputs": [
    {
     "data": {
      "text/html": [
       "<div>\n",
       "<table border=\"1\" class=\"dataframe\">\n",
       "  <thead>\n",
       "    <tr style=\"text-align: right;\">\n",
       "      <th></th>\n",
       "      <th>level_0</th>\n",
       "      <th>match</th>\n",
       "      <th>year</th>\n",
       "      <th>month</th>\n",
       "      <th>day</th>\n",
       "    </tr>\n",
       "  </thead>\n",
       "  <tbody>\n",
       "    <tr>\n",
       "      <th>0</th>\n",
       "      <td>455</td>\n",
       "      <td>0</td>\n",
       "      <td>1984</td>\n",
       "      <td>1.0</td>\n",
       "      <td>1.0</td>\n",
       "    </tr>\n",
       "    <tr>\n",
       "      <th>1</th>\n",
       "      <td>456</td>\n",
       "      <td>0</td>\n",
       "      <td>2000</td>\n",
       "      <td>1.0</td>\n",
       "      <td>1.0</td>\n",
       "    </tr>\n",
       "    <tr>\n",
       "      <th>2</th>\n",
       "      <td>457</td>\n",
       "      <td>0</td>\n",
       "      <td>2001</td>\n",
       "      <td>1.0</td>\n",
       "      <td>1.0</td>\n",
       "    </tr>\n",
       "    <tr>\n",
       "      <th>3</th>\n",
       "      <td>458</td>\n",
       "      <td>0</td>\n",
       "      <td>1982</td>\n",
       "      <td>1.0</td>\n",
       "      <td>1.0</td>\n",
       "    </tr>\n",
       "    <tr>\n",
       "      <th>4</th>\n",
       "      <td>459</td>\n",
       "      <td>0</td>\n",
       "      <td>1998</td>\n",
       "      <td>1.0</td>\n",
       "      <td>1.0</td>\n",
       "    </tr>\n",
       "    <tr>\n",
       "      <th>5</th>\n",
       "      <td>460</td>\n",
       "      <td>0</td>\n",
       "      <td>2012</td>\n",
       "      <td>1.0</td>\n",
       "      <td>1.0</td>\n",
       "    </tr>\n",
       "    <tr>\n",
       "      <th>6</th>\n",
       "      <td>462</td>\n",
       "      <td>0</td>\n",
       "      <td>1988</td>\n",
       "      <td>1.0</td>\n",
       "      <td>1.0</td>\n",
       "    </tr>\n",
       "    <tr>\n",
       "      <th>7</th>\n",
       "      <td>463</td>\n",
       "      <td>0</td>\n",
       "      <td>2014</td>\n",
       "      <td>1.0</td>\n",
       "      <td>1.0</td>\n",
       "    </tr>\n",
       "    <tr>\n",
       "      <th>8</th>\n",
       "      <td>464</td>\n",
       "      <td>0</td>\n",
       "      <td>2016</td>\n",
       "      <td>1.0</td>\n",
       "      <td>1.0</td>\n",
       "    </tr>\n",
       "    <tr>\n",
       "      <th>9</th>\n",
       "      <td>466</td>\n",
       "      <td>0</td>\n",
       "      <td>1981</td>\n",
       "      <td>1.0</td>\n",
       "      <td>1.0</td>\n",
       "    </tr>\n",
       "    <tr>\n",
       "      <th>10</th>\n",
       "      <td>467</td>\n",
       "      <td>0</td>\n",
       "      <td>2011</td>\n",
       "      <td>1.0</td>\n",
       "      <td>1.0</td>\n",
       "    </tr>\n",
       "    <tr>\n",
       "      <th>11</th>\n",
       "      <td>468</td>\n",
       "      <td>0</td>\n",
       "      <td>1997</td>\n",
       "      <td>1.0</td>\n",
       "      <td>1.0</td>\n",
       "    </tr>\n",
       "    <tr>\n",
       "      <th>12</th>\n",
       "      <td>469</td>\n",
       "      <td>0</td>\n",
       "      <td>2003</td>\n",
       "      <td>1.0</td>\n",
       "      <td>1.0</td>\n",
       "    </tr>\n",
       "    <tr>\n",
       "      <th>13</th>\n",
       "      <td>470</td>\n",
       "      <td>0</td>\n",
       "      <td>1983</td>\n",
       "      <td>1.0</td>\n",
       "      <td>1.0</td>\n",
       "    </tr>\n",
       "    <tr>\n",
       "      <th>14</th>\n",
       "      <td>471</td>\n",
       "      <td>0</td>\n",
       "      <td>1999</td>\n",
       "      <td>1.0</td>\n",
       "      <td>1.0</td>\n",
       "    </tr>\n",
       "    <tr>\n",
       "      <th>15</th>\n",
       "      <td>472</td>\n",
       "      <td>0</td>\n",
       "      <td>2010</td>\n",
       "      <td>1.0</td>\n",
       "      <td>1.0</td>\n",
       "    </tr>\n",
       "    <tr>\n",
       "      <th>16</th>\n",
       "      <td>473</td>\n",
       "      <td>0</td>\n",
       "      <td>1975</td>\n",
       "      <td>1.0</td>\n",
       "      <td>1.0</td>\n",
       "    </tr>\n",
       "    <tr>\n",
       "      <th>17</th>\n",
       "      <td>474</td>\n",
       "      <td>0</td>\n",
       "      <td>1972</td>\n",
       "      <td>1.0</td>\n",
       "      <td>1.0</td>\n",
       "    </tr>\n",
       "    <tr>\n",
       "      <th>18</th>\n",
       "      <td>475</td>\n",
       "      <td>0</td>\n",
       "      <td>2015</td>\n",
       "      <td>1.0</td>\n",
       "      <td>1.0</td>\n",
       "    </tr>\n",
       "    <tr>\n",
       "      <th>19</th>\n",
       "      <td>476</td>\n",
       "      <td>0</td>\n",
       "      <td>1989</td>\n",
       "      <td>1.0</td>\n",
       "      <td>1.0</td>\n",
       "    </tr>\n",
       "    <tr>\n",
       "      <th>20</th>\n",
       "      <td>477</td>\n",
       "      <td>0</td>\n",
       "      <td>1994</td>\n",
       "      <td>1.0</td>\n",
       "      <td>1.0</td>\n",
       "    </tr>\n",
       "    <tr>\n",
       "      <th>21</th>\n",
       "      <td>478</td>\n",
       "      <td>0</td>\n",
       "      <td>1993</td>\n",
       "      <td>1.0</td>\n",
       "      <td>1.0</td>\n",
       "    </tr>\n",
       "    <tr>\n",
       "      <th>22</th>\n",
       "      <td>479</td>\n",
       "      <td>0</td>\n",
       "      <td>1996</td>\n",
       "      <td>1.0</td>\n",
       "      <td>1.0</td>\n",
       "    </tr>\n",
       "    <tr>\n",
       "      <th>23</th>\n",
       "      <td>480</td>\n",
       "      <td>0</td>\n",
       "      <td>2013</td>\n",
       "      <td>1.0</td>\n",
       "      <td>1.0</td>\n",
       "    </tr>\n",
       "    <tr>\n",
       "      <th>24</th>\n",
       "      <td>481</td>\n",
       "      <td>0</td>\n",
       "      <td>1974</td>\n",
       "      <td>1.0</td>\n",
       "      <td>1.0</td>\n",
       "    </tr>\n",
       "    <tr>\n",
       "      <th>25</th>\n",
       "      <td>482</td>\n",
       "      <td>0</td>\n",
       "      <td>1990</td>\n",
       "      <td>1.0</td>\n",
       "      <td>1.0</td>\n",
       "    </tr>\n",
       "    <tr>\n",
       "      <th>26</th>\n",
       "      <td>483</td>\n",
       "      <td>0</td>\n",
       "      <td>1995</td>\n",
       "      <td>1.0</td>\n",
       "      <td>1.0</td>\n",
       "    </tr>\n",
       "    <tr>\n",
       "      <th>27</th>\n",
       "      <td>484</td>\n",
       "      <td>0</td>\n",
       "      <td>2004</td>\n",
       "      <td>1.0</td>\n",
       "      <td>1.0</td>\n",
       "    </tr>\n",
       "    <tr>\n",
       "      <th>28</th>\n",
       "      <td>485</td>\n",
       "      <td>0</td>\n",
       "      <td>1987</td>\n",
       "      <td>1.0</td>\n",
       "      <td>1.0</td>\n",
       "    </tr>\n",
       "    <tr>\n",
       "      <th>29</th>\n",
       "      <td>486</td>\n",
       "      <td>0</td>\n",
       "      <td>1973</td>\n",
       "      <td>1.0</td>\n",
       "      <td>1.0</td>\n",
       "    </tr>\n",
       "    <tr>\n",
       "      <th>30</th>\n",
       "      <td>487</td>\n",
       "      <td>0</td>\n",
       "      <td>1992</td>\n",
       "      <td>1.0</td>\n",
       "      <td>1.0</td>\n",
       "    </tr>\n",
       "    <tr>\n",
       "      <th>31</th>\n",
       "      <td>488</td>\n",
       "      <td>0</td>\n",
       "      <td>1977</td>\n",
       "      <td>1.0</td>\n",
       "      <td>1.0</td>\n",
       "    </tr>\n",
       "    <tr>\n",
       "      <th>32</th>\n",
       "      <td>489</td>\n",
       "      <td>0</td>\n",
       "      <td>1985</td>\n",
       "      <td>1.0</td>\n",
       "      <td>1.0</td>\n",
       "    </tr>\n",
       "    <tr>\n",
       "      <th>33</th>\n",
       "      <td>490</td>\n",
       "      <td>0</td>\n",
       "      <td>2007</td>\n",
       "      <td>1.0</td>\n",
       "      <td>1.0</td>\n",
       "    </tr>\n",
       "    <tr>\n",
       "      <th>34</th>\n",
       "      <td>491</td>\n",
       "      <td>0</td>\n",
       "      <td>2009</td>\n",
       "      <td>1.0</td>\n",
       "      <td>1.0</td>\n",
       "    </tr>\n",
       "    <tr>\n",
       "      <th>35</th>\n",
       "      <td>492</td>\n",
       "      <td>0</td>\n",
       "      <td>1986</td>\n",
       "      <td>1.0</td>\n",
       "      <td>1.0</td>\n",
       "    </tr>\n",
       "    <tr>\n",
       "      <th>36</th>\n",
       "      <td>493</td>\n",
       "      <td>0</td>\n",
       "      <td>1978</td>\n",
       "      <td>1.0</td>\n",
       "      <td>1.0</td>\n",
       "    </tr>\n",
       "    <tr>\n",
       "      <th>37</th>\n",
       "      <td>494</td>\n",
       "      <td>0</td>\n",
       "      <td>2002</td>\n",
       "      <td>1.0</td>\n",
       "      <td>1.0</td>\n",
       "    </tr>\n",
       "    <tr>\n",
       "      <th>38</th>\n",
       "      <td>495</td>\n",
       "      <td>0</td>\n",
       "      <td>1979</td>\n",
       "      <td>1.0</td>\n",
       "      <td>1.0</td>\n",
       "    </tr>\n",
       "    <tr>\n",
       "      <th>39</th>\n",
       "      <td>496</td>\n",
       "      <td>0</td>\n",
       "      <td>2006</td>\n",
       "      <td>1.0</td>\n",
       "      <td>1.0</td>\n",
       "    </tr>\n",
       "    <tr>\n",
       "      <th>40</th>\n",
       "      <td>497</td>\n",
       "      <td>0</td>\n",
       "      <td>2008</td>\n",
       "      <td>1.0</td>\n",
       "      <td>1.0</td>\n",
       "    </tr>\n",
       "    <tr>\n",
       "      <th>41</th>\n",
       "      <td>498</td>\n",
       "      <td>0</td>\n",
       "      <td>2005</td>\n",
       "      <td>1.0</td>\n",
       "      <td>1.0</td>\n",
       "    </tr>\n",
       "    <tr>\n",
       "      <th>42</th>\n",
       "      <td>499</td>\n",
       "      <td>0</td>\n",
       "      <td>1980</td>\n",
       "      <td>1.0</td>\n",
       "      <td>1.0</td>\n",
       "    </tr>\n",
       "  </tbody>\n",
       "</table>\n",
       "</div>"
      ],
      "text/plain": [
       "    level_0  match  year  month  day\n",
       "0       455      0  1984    1.0  1.0\n",
       "1       456      0  2000    1.0  1.0\n",
       "2       457      0  2001    1.0  1.0\n",
       "3       458      0  1982    1.0  1.0\n",
       "4       459      0  1998    1.0  1.0\n",
       "5       460      0  2012    1.0  1.0\n",
       "6       462      0  1988    1.0  1.0\n",
       "7       463      0  2014    1.0  1.0\n",
       "8       464      0  2016    1.0  1.0\n",
       "9       466      0  1981    1.0  1.0\n",
       "10      467      0  2011    1.0  1.0\n",
       "11      468      0  1997    1.0  1.0\n",
       "12      469      0  2003    1.0  1.0\n",
       "13      470      0  1983    1.0  1.0\n",
       "14      471      0  1999    1.0  1.0\n",
       "15      472      0  2010    1.0  1.0\n",
       "16      473      0  1975    1.0  1.0\n",
       "17      474      0  1972    1.0  1.0\n",
       "18      475      0  2015    1.0  1.0\n",
       "19      476      0  1989    1.0  1.0\n",
       "20      477      0  1994    1.0  1.0\n",
       "21      478      0  1993    1.0  1.0\n",
       "22      479      0  1996    1.0  1.0\n",
       "23      480      0  2013    1.0  1.0\n",
       "24      481      0  1974    1.0  1.0\n",
       "25      482      0  1990    1.0  1.0\n",
       "26      483      0  1995    1.0  1.0\n",
       "27      484      0  2004    1.0  1.0\n",
       "28      485      0  1987    1.0  1.0\n",
       "29      486      0  1973    1.0  1.0\n",
       "30      487      0  1992    1.0  1.0\n",
       "31      488      0  1977    1.0  1.0\n",
       "32      489      0  1985    1.0  1.0\n",
       "33      490      0  2007    1.0  1.0\n",
       "34      491      0  2009    1.0  1.0\n",
       "35      492      0  1986    1.0  1.0\n",
       "36      493      0  1978    1.0  1.0\n",
       "37      494      0  2002    1.0  1.0\n",
       "38      495      0  1979    1.0  1.0\n",
       "39      496      0  2006    1.0  1.0\n",
       "40      497      0  2008    1.0  1.0\n",
       "41      498      0  2005    1.0  1.0\n",
       "42      499      0  1980    1.0  1.0"
      ]
     },
     "execution_count": 22,
     "metadata": {},
     "output_type": "execute_result"
    }
   ],
   "source": [
    "t4"
   ]
  },
  {
   "cell_type": "markdown",
   "metadata": {},
   "source": [
    "To check overlaps"
   ]
  },
  {
   "cell_type": "code",
   "execution_count": 23,
   "metadata": {
    "collapsed": true
   },
   "outputs": [],
   "source": [
    "overlap_t14 = [x for x in t4_index if x in t1_index]\n",
    "overlap_t24 = [x for x in t4_index if x in t2_index]\n",
    "overlap_t34 = [x for x in t4_index if x in t3_index]\n",
    "overlap_all = []\n",
    "overlap_all.extend(overlap_t14)\n",
    "overlap_all.extend(overlap_t24)\n",
    "overlap_all.extend(overlap_t34)"
   ]
  },
  {
   "cell_type": "code",
   "execution_count": 24,
   "metadata": {
    "collapsed": false
   },
   "outputs": [
    {
     "data": {
      "text/plain": [
       "[]"
      ]
     },
     "execution_count": 24,
     "metadata": {},
     "output_type": "execute_result"
    }
   ],
   "source": [
    "overlap_all"
   ]
  },
  {
   "cell_type": "markdown",
   "metadata": {},
   "source": [
    "Put dataframes together and replace the month"
   ]
  },
  {
   "cell_type": "code",
   "execution_count": 26,
   "metadata": {
    "collapsed": true
   },
   "outputs": [],
   "source": [
    "Data = pd.concat([t1,t2,t3,t4]).fillna(1)"
   ]
  },
  {
   "cell_type": "code",
   "execution_count": 27,
   "metadata": {
    "collapsed": true
   },
   "outputs": [],
   "source": [
    "month_dict = dict({'Jan': 1, 'Janaury': 1,'January': 1,'Feb': 2, 'February': 2,  'Mar': 3, 'March': 3,'Apr': 4, 'April':4, \n",
    "                   'May': 5, 'Jun': 6, 'June': 6,   'Jul': 7,'July': 7, 'Aug': 8, 'August': 8, 'Decemeber':12, \n",
    "                   'Sep': 9, 'September': 9,'Oct': 10, 'October': 10,'Nov': 11,'November': 11,'Dec': 12, 'December': 12})"
   ]
  },
  {
   "cell_type": "code",
   "execution_count": 28,
   "metadata": {
    "collapsed": true
   },
   "outputs": [],
   "source": [
    "for x in month_dict:\n",
    "    Data.month.replace(x, month_dict[x], inplace = True)"
   ]
  },
  {
   "cell_type": "code",
   "execution_count": 34,
   "metadata": {
    "collapsed": false
   },
   "outputs": [
    {
     "data": {
      "text/plain": [
       "496"
      ]
     },
     "execution_count": 34,
     "metadata": {},
     "output_type": "execute_result"
    }
   ],
   "source": []
  },
  {
   "cell_type": "markdown",
   "metadata": {},
   "source": [
    "Since there are two entry that's incorrectly captured (I found these two the month and day doesn't make sense and went back to check on the data), I will remove the two entry"
   ]
  },
  {
   "cell_type": "code",
   "execution_count": 31,
   "metadata": {
    "collapsed": false
   },
   "outputs": [
    {
     "name": "stdout",
     "output_type": "stream",
     "text": [
      "day           1\n",
      "level_0      10\n",
      "match         1\n",
      "month        16\n",
      "year       1922\n",
      "Name: 11, dtype: object\n"
     ]
    }
   ],
   "source": [
    "print(Data.iloc[11]) "
   ]
  },
  {
   "cell_type": "code",
   "execution_count": 30,
   "metadata": {
    "collapsed": false
   },
   "outputs": [
    {
     "data": {
      "text/plain": [
       "day          36\n",
       "level_0      72\n",
       "match         1\n",
       "month        49\n",
       "year       1930\n",
       "Name: 74, dtype: object"
      ]
     },
     "execution_count": 30,
     "metadata": {},
     "output_type": "execute_result"
    }
   ],
   "source": [
    "Data.iloc[74]"
   ]
  },
  {
   "cell_type": "code",
   "execution_count": 33,
   "metadata": {
    "collapsed": false
   },
   "outputs": [],
   "source": [
    "to_drop = [11,74]\n",
    "Data = Data.drop(Data.index[to_drop])"
   ]
  },
  {
   "cell_type": "code",
   "execution_count": 35,
   "metadata": {
    "collapsed": false
   },
   "outputs": [
    {
     "data": {
      "text/plain": [
       "496"
      ]
     },
     "execution_count": 35,
     "metadata": {},
     "output_type": "execute_result"
    }
   ],
   "source": [
    "len(Data)"
   ]
  },
  {
   "cell_type": "markdown",
   "metadata": {},
   "source": [
    "I checked the lenth of the Data at this point, seems like I am missing 4 entries, since the total lenth should be 500. however I don't see where is the miss. when I check it I got this:"
   ]
  },
  {
   "cell_type": "code",
   "execution_count": 36,
   "metadata": {
    "collapsed": false
   },
   "outputs": [
    {
     "data": {
      "text/plain": [
       "[11,\n",
       " 74,\n",
       " 239,\n",
       " 240,\n",
       " 241,\n",
       " 242,\n",
       " 243,\n",
       " 244,\n",
       " 245,\n",
       " 246,\n",
       " 247,\n",
       " 248,\n",
       " 249,\n",
       " 250,\n",
       " 251,\n",
       " 252,\n",
       " 253,\n",
       " 254,\n",
       " 255,\n",
       " 256,\n",
       " 257,\n",
       " 258,\n",
       " 259,\n",
       " 260,\n",
       " 261,\n",
       " 262,\n",
       " 263,\n",
       " 264,\n",
       " 265,\n",
       " 266,\n",
       " 267,\n",
       " 268,\n",
       " 269,\n",
       " 270,\n",
       " 271,\n",
       " 272,\n",
       " 273,\n",
       " 274,\n",
       " 275,\n",
       " 276,\n",
       " 277,\n",
       " 278,\n",
       " 279,\n",
       " 280,\n",
       " 281,\n",
       " 282,\n",
       " 283,\n",
       " 284,\n",
       " 285,\n",
       " 286,\n",
       " 287,\n",
       " 288,\n",
       " 289,\n",
       " 290,\n",
       " 291,\n",
       " 292,\n",
       " 293,\n",
       " 294,\n",
       " 295,\n",
       " 296,\n",
       " 297,\n",
       " 298,\n",
       " 299,\n",
       " 300,\n",
       " 301,\n",
       " 302,\n",
       " 303,\n",
       " 304,\n",
       " 305,\n",
       " 306,\n",
       " 307,\n",
       " 308,\n",
       " 309,\n",
       " 310,\n",
       " 311,\n",
       " 312,\n",
       " 313,\n",
       " 314,\n",
       " 315,\n",
       " 316,\n",
       " 317,\n",
       " 318,\n",
       " 319,\n",
       " 320,\n",
       " 321,\n",
       " 322,\n",
       " 323,\n",
       " 324,\n",
       " 325,\n",
       " 326,\n",
       " 327,\n",
       " 328,\n",
       " 329,\n",
       " 330,\n",
       " 331,\n",
       " 332,\n",
       " 333,\n",
       " 334,\n",
       " 335,\n",
       " 336,\n",
       " 337,\n",
       " 338,\n",
       " 339,\n",
       " 340,\n",
       " 341,\n",
       " 342,\n",
       " 343,\n",
       " 344,\n",
       " 345,\n",
       " 346,\n",
       " 347,\n",
       " 348,\n",
       " 349,\n",
       " 350,\n",
       " 351,\n",
       " 352,\n",
       " 353,\n",
       " 354,\n",
       " 355,\n",
       " 356,\n",
       " 357,\n",
       " 358,\n",
       " 359,\n",
       " 360,\n",
       " 361,\n",
       " 362,\n",
       " 363,\n",
       " 364,\n",
       " 365,\n",
       " 366,\n",
       " 367,\n",
       " 368,\n",
       " 369,\n",
       " 370,\n",
       " 371,\n",
       " 372,\n",
       " 373,\n",
       " 374,\n",
       " 375,\n",
       " 376,\n",
       " 377,\n",
       " 378,\n",
       " 379,\n",
       " 380,\n",
       " 381,\n",
       " 382,\n",
       " 383,\n",
       " 384,\n",
       " 385,\n",
       " 386,\n",
       " 387,\n",
       " 388,\n",
       " 389,\n",
       " 390,\n",
       " 391,\n",
       " 392,\n",
       " 393,\n",
       " 394,\n",
       " 395,\n",
       " 396,\n",
       " 397,\n",
       " 398,\n",
       " 399,\n",
       " 400,\n",
       " 401,\n",
       " 402,\n",
       " 403,\n",
       " 404,\n",
       " 405,\n",
       " 406,\n",
       " 407,\n",
       " 408,\n",
       " 409,\n",
       " 410,\n",
       " 411,\n",
       " 412,\n",
       " 413,\n",
       " 414,\n",
       " 415,\n",
       " 416,\n",
       " 417,\n",
       " 418,\n",
       " 419,\n",
       " 420,\n",
       " 421,\n",
       " 422,\n",
       " 423,\n",
       " 424,\n",
       " 425,\n",
       " 426,\n",
       " 427,\n",
       " 428,\n",
       " 429,\n",
       " 430,\n",
       " 431,\n",
       " 432,\n",
       " 433,\n",
       " 434,\n",
       " 435,\n",
       " 436,\n",
       " 437,\n",
       " 438,\n",
       " 439,\n",
       " 440,\n",
       " 441,\n",
       " 442,\n",
       " 443,\n",
       " 444,\n",
       " 445,\n",
       " 446,\n",
       " 447,\n",
       " 448,\n",
       " 449,\n",
       " 450,\n",
       " 451,\n",
       " 452,\n",
       " 453,\n",
       " 454,\n",
       " 455,\n",
       " 456,\n",
       " 457,\n",
       " 458,\n",
       " 459,\n",
       " 460,\n",
       " 461,\n",
       " 462,\n",
       " 463,\n",
       " 464,\n",
       " 465,\n",
       " 466,\n",
       " 467,\n",
       " 468,\n",
       " 469,\n",
       " 470,\n",
       " 471,\n",
       " 472,\n",
       " 473,\n",
       " 474,\n",
       " 475,\n",
       " 476,\n",
       " 477,\n",
       " 478,\n",
       " 479,\n",
       " 480,\n",
       " 481,\n",
       " 482,\n",
       " 483,\n",
       " 484,\n",
       " 485,\n",
       " 486,\n",
       " 487,\n",
       " 488,\n",
       " 489,\n",
       " 490,\n",
       " 491,\n",
       " 492,\n",
       " 493,\n",
       " 494,\n",
       " 495,\n",
       " 496,\n",
       " 497,\n",
       " 498,\n",
       " 499]"
      ]
     },
     "execution_count": 36,
     "metadata": {},
     "output_type": "execute_result"
    }
   ],
   "source": [
    "r500 = range(500)\n",
    "miss = [x for x in r500 if x not in Data['level_0']]\n",
    "miss"
   ]
  },
  {
   "cell_type": "markdown",
   "metadata": {},
   "source": [
    "My first thought was, hey I only miss 4 entries, why is this suggestiong I am missing a lot. so then I sort the Data and try to get a clear view"
   ]
  },
  {
   "cell_type": "code",
   "execution_count": 37,
   "metadata": {
    "collapsed": false
   },
   "outputs": [
    {
     "data": {
      "text/plain": [
       "[136, 205, 233, 468]"
      ]
     },
     "execution_count": 37,
     "metadata": {},
     "output_type": "execute_result"
    }
   ],
   "source": [
    "r500 = range(500)\n",
    "l500 = sorted(Data['level_0'])\n",
    "miss = [x for x in r500 if x not in l500]\n",
    "miss"
   ]
  },
  {
   "cell_type": "markdown",
   "metadata": {},
   "source": [
    "and it give me the answer that I want, my next question is what happend to 136, I clear remember seeing this entry in t2. "
   ]
  },
  {
   "cell_type": "code",
   "execution_count": 38,
   "metadata": {
    "collapsed": false
   },
   "outputs": [
    {
     "data": {
      "text/plain": [
       "True"
      ]
     },
     "execution_count": 38,
     "metadata": {},
     "output_type": "execute_result"
    }
   ],
   "source": [
    "136 in Data['level_0']"
   ]
  },
  {
   "cell_type": "code",
   "execution_count": 39,
   "metadata": {
    "collapsed": false
   },
   "outputs": [
    {
     "data": {
      "text/plain": [
       "False"
      ]
     },
     "execution_count": 39,
     "metadata": {},
     "output_type": "execute_result"
    }
   ],
   "source": [
    "136 in sorted(['level_0'])"
   ]
  },
  {
   "cell_type": "markdown",
   "metadata": {},
   "source": [
    "So at this point, seems like sorted() did something that I wasn't expecting. and I really don't know why. I went and did some search, didn't find something very useful. So I try to track the item 136 and see when and where it disappeared. I first make another copy of the Data before I remove the two error entry:"
   ]
  },
  {
   "cell_type": "code",
   "execution_count": 41,
   "metadata": {
    "collapsed": false
   },
   "outputs": [
    {
     "data": {
      "text/plain": [
       "502"
      ]
     },
     "execution_count": 41,
     "metadata": {},
     "output_type": "execute_result"
    }
   ],
   "source": [
    "Data1 = pd.concat([t1,t2,t3,t4]).fillna(1)\n",
    "len(Data1)"
   ]
  },
  {
   "cell_type": "markdown",
   "metadata": {},
   "source": [
    "Something interesting happen right here, before I remove the two entry the length of the Data frame is 502, and after I remove it become 496, so when I thought I only removed two entries, I really removed 6! "
   ]
  },
  {
   "cell_type": "code",
   "execution_count": 44,
   "metadata": {
    "collapsed": false
   },
   "outputs": [
    {
     "data": {
      "text/plain": [
       "11     10\n",
       "11    136\n",
       "11    205\n",
       "11    468\n",
       "Name: level_0, dtype: int64"
      ]
     },
     "execution_count": 44,
     "metadata": {},
     "output_type": "execute_result"
    }
   ],
   "source": [
    "Data1['level_0'][11]"
   ]
  },
  {
   "cell_type": "code",
   "execution_count": 45,
   "metadata": {
    "collapsed": false
   },
   "outputs": [
    {
     "data": {
      "text/plain": [
       "day           1\n",
       "level_0      10\n",
       "match         1\n",
       "month        16\n",
       "year       1922\n",
       "Name: 11, dtype: object"
      ]
     },
     "execution_count": 45,
     "metadata": {},
     "output_type": "execute_result"
    }
   ],
   "source": [
    "Data1.iloc[11]"
   ]
  },
  {
   "cell_type": "code",
   "execution_count": 46,
   "metadata": {
    "collapsed": false
   },
   "outputs": [
    {
     "data": {
      "text/plain": [
       "day           1\n",
       "level_0     352\n",
       "match         0\n",
       "month         3\n",
       "year       1986\n",
       "Name: 136, dtype: object"
      ]
     },
     "execution_count": 46,
     "metadata": {},
     "output_type": "execute_result"
    }
   ],
   "source": [
    "Data1.iloc[136]"
   ]
  },
  {
   "cell_type": "markdown",
   "metadata": {},
   "source": [
    "So here comes the problem when I use iloc, it only refer to one entry, when I use drop to drop the entry, it dropped not only to that entry but also other data that associate to that index, when I call Data1['level_0'][11] 4 entry was return all associated with same index. "
   ]
  },
  {
   "cell_type": "markdown",
   "metadata": {},
   "source": [
    "Another problem I would like a more clear understanding would be:\n",
    "136 in Data['level_0'] returns True\n",
    "136 in sorted(Data['level_0']) returns False.\n",
    "I don't gey why the first commend would return True, since I have accendentally removed the element. \n",
    "\n",
    "My understanding is Data['level_0'] only check the first one within the memory slot, where group by actrually have to iterate through all the entry so it can see the whole entry. \n",
    "If someone know why this is happening please let me know"
   ]
  },
  {
   "cell_type": "code",
   "execution_count": null,
   "metadata": {
    "collapsed": true
   },
   "outputs": [],
   "source": []
  }
 ],
 "metadata": {
  "kernelspec": {
   "display_name": "Python [Root]",
   "language": "python",
   "name": "Python [Root]"
  },
  "language_info": {
   "codemirror_mode": {
    "name": "ipython",
    "version": 3
   },
   "file_extension": ".py",
   "mimetype": "text/x-python",
   "name": "python",
   "nbconvert_exporter": "python",
   "pygments_lexer": "ipython3",
   "version": "3.5.2"
  }
 },
 "nbformat": 4,
 "nbformat_minor": 0
}
